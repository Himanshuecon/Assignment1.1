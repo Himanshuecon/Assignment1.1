{
 "cells": [
  {
   "cell_type": "code",
   "execution_count": null,
   "id": "62b2fad6",
   "metadata": {},
   "outputs": [],
   "source": [
    "marks=int(input(\"Enter Percentage\"))\n",
    "if marks>90:\n",
    "    print(\"Grade A\")\n",
    "elif marks>80 and marks<=90:\n",
    "    print(\"Grade B\")\n",
    "elif marks>=60 and marks<=80:\n",
    "    print(\"Grade C\")\n",
    "else:\n",
    "    print(\"Grade D\")"
   ]
  },
  {
   "cell_type": "code",
   "execution_count": null,
   "id": "00aafb5c",
   "metadata": {},
   "outputs": [],
   "source": [
    "cost_price=int(input(\"Cost price of the bike\"))\n",
    "if cost_price>100000:\n",
    "    print(\"Tax 15%\")\n",
    "elif cost_price>50000 and cost_price<=100000:\n",
    "    print(\"Tax 10%\")\n",
    "else:\n",
    "    print(\"Tax 5%\")"
   ]
  },
  {
   "cell_type": "code",
   "execution_count": null,
   "id": "663bc0ab",
   "metadata": {},
   "outputs": [],
   "source": [
    "city=input(\"Enter City Name\")\n",
    "if city==(\"Delhi\"):\n",
    "    print(\"Red Fort\")\n",
    "elif city==(\"Agra\"):\n",
    "    print(\"Taj Mahal\")\n",
    "elif city==(\"Jaipur\"):\n",
    "    print(\"Jal Mahal\")"
   ]
  },
  {
   "cell_type": "code",
   "execution_count": null,
   "id": "33c80fbb",
   "metadata": {},
   "outputs": [],
   "source": [
    "def divide_by_3(num):\n",
    "    count = 0\n",
    "    while num > 10:\n",
    "        num = num / 3\n",
    "        count += 1\n",
    "    return count\n",
    "\n",
    "print(divide_by_3(50))\n"
   ]
  },
  {
   "cell_type": "code",
   "execution_count": 1,
   "id": "83dcb495",
   "metadata": {},
   "outputs": [
    {
     "name": "stdout",
     "output_type": "stream",
     "text": [
      "5\n",
      "4\n",
      "3\n",
      "2\n",
      "1\n",
      "Blast off!\n"
     ]
    }
   ],
   "source": [
    "# Ques5: A while loop in Python is used to repeatedly execute a block of code as long as a given condition remains True.\n",
    "#The code inside the while loop is executed repeatedly until the condition becomes False. It is important to ensure that the condition will eventually become False, otherwise the loop will run indefinitely, creating an infinite loop.\n",
    "n = 5\n",
    "\n",
    "while n > 0:\n",
    "    print(n)\n",
    "    n -= 1\n",
    "\n",
    "print(\"Blast off!\")\n"
   ]
  },
  {
   "cell_type": "code",
   "execution_count": 2,
   "id": "634b34a8",
   "metadata": {},
   "outputs": [],
   "source": [
    "l=[1,2,3,4,5,6,7,8,9,10]"
   ]
  },
  {
   "cell_type": "code",
   "execution_count": 3,
   "id": "9fffea91",
   "metadata": {},
   "outputs": [
    {
     "data": {
      "text/plain": [
       "range(0, 10)"
      ]
     },
     "execution_count": 3,
     "metadata": {},
     "output_type": "execute_result"
    }
   ],
   "source": [
    "range(len(l))"
   ]
  },
  {
   "cell_type": "code",
   "execution_count": 4,
   "id": "1a1470d4",
   "metadata": {},
   "outputs": [
    {
     "data": {
      "text/plain": [
       "[0, 1, 2, 3, 4, 5, 6, 7, 8, 9]"
      ]
     },
     "execution_count": 4,
     "metadata": {},
     "output_type": "execute_result"
    }
   ],
   "source": [
    "list(range(len(l)))"
   ]
  },
  {
   "cell_type": "code",
   "execution_count": 6,
   "id": "af83c8e6",
   "metadata": {},
   "outputs": [
    {
     "name": "stdout",
     "output_type": "stream",
     "text": [
      "10\n",
      "9\n",
      "8\n",
      "7\n",
      "6\n",
      "5\n",
      "4\n",
      "3\n",
      "2\n",
      "1\n"
     ]
    }
   ],
   "source": [
    "for i in range(len(l)-1,-1,-1):\n",
    "    print(l[i])"
   ]
  },
  {
   "cell_type": "code",
   "execution_count": null,
   "id": "bb1d6fe5",
   "metadata": {},
   "outputs": [],
   "source": []
  }
 ],
 "metadata": {
  "kernelspec": {
   "display_name": "Python 3 (ipykernel)",
   "language": "python",
   "name": "python3"
  },
  "language_info": {
   "codemirror_mode": {
    "name": "ipython",
    "version": 3
   },
   "file_extension": ".py",
   "mimetype": "text/x-python",
   "name": "python",
   "nbconvert_exporter": "python",
   "pygments_lexer": "ipython3",
   "version": "3.11.1"
  }
 },
 "nbformat": 4,
 "nbformat_minor": 5
}
