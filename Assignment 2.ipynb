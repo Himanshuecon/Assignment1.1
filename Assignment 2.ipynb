{
 "cells": [
  {
   "cell_type": "code",
   "execution_count": 1,
   "id": "62b2fad6",
   "metadata": {},
   "outputs": [
    {
     "name": "stdout",
     "output_type": "stream",
     "text": [
      "Enter Percentage50\n",
      "Grade D\n"
     ]
    }
   ],
   "source": [
    "marks=int(input(\"Enter Percentage\"))\n",
    "if marks>90:\n",
    "    print(\"Grade A\")\n",
    "elif marks>80 and marks<=90:\n",
    "    print(\"Grade B\")\n",
    "elif marks>=60 and marks<=80:\n",
    "    print(\"Grade C\")\n",
    "else:\n",
    "    print(\"Grade D\")"
   ]
  },
  {
   "cell_type": "code",
   "execution_count": 2,
   "id": "00aafb5c",
   "metadata": {},
   "outputs": [
    {
     "name": "stdout",
     "output_type": "stream",
     "text": [
      "Cost price of the bike50000\n",
      "Tax 5%\n"
     ]
    }
   ],
   "source": [
    "cost_price=int(input(\"Cost price of the bike\"))\n",
    "if cost_price>100000:\n",
    "    print(\"Tax 15%\")\n",
    "elif cost_price>50000 and cost_price<=100000:\n",
    "    print(\"Tax 10%\")\n",
    "else:\n",
    "    print(\"Tax 5%\")"
   ]
  },
  {
   "cell_type": "code",
   "execution_count": 7,
   "id": "663bc0ab",
   "metadata": {},
   "outputs": [
    {
     "name": "stdout",
     "output_type": "stream",
     "text": [
      "Enter City NameAgra\n",
      "Taj Mahal\n"
     ]
    }
   ],
   "source": [
    "city=input(\"Enter City Name\")\n",
    "if city==(\"Delhi\"):\n",
    "    print(\"Red Fort\")\n",
    "elif city==(\"Agra\"):\n",
    "    print(\"Taj Mahal\")\n",
    "elif city==(\"Jaipur\"):\n",
    "    print(\"Jal Mahal\")"
   ]
  },
  {
   "cell_type": "code",
   "execution_count": null,
   "id": "33c80fbb",
   "metadata": {},
   "outputs": [],
   "source": []
  },
  {
   "cell_type": "code",
   "execution_count": null,
   "id": "83dcb495",
   "metadata": {},
   "outputs": [],
   "source": []
  }
 ],
 "metadata": {
  "kernelspec": {
   "display_name": "Python 3 (ipykernel)",
   "language": "python",
   "name": "python3"
  },
  "language_info": {
   "codemirror_mode": {
    "name": "ipython",
    "version": 3
   },
   "file_extension": ".py",
   "mimetype": "text/x-python",
   "name": "python",
   "nbconvert_exporter": "python",
   "pygments_lexer": "ipython3",
   "version": "3.11.1"
  }
 },
 "nbformat": 4,
 "nbformat_minor": 5
}
